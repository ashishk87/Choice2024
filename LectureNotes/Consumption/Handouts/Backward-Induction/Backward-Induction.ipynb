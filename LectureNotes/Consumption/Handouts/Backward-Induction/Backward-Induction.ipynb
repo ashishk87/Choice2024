{
 "cells": [
  {
   "cell_type": "markdown",
   "metadata": {},
   "source": [
    "# Backward Induction and Dynamic Programming"
   ]
  },
  {
   "cell_type": "markdown",
   "metadata": {},
   "source": [
    "## One Period Model\n",
    "\n",
    "\\begin{align}\n",
    "v_{T}(m_{T})    & = \\max_{c_{T}} u(c_{T}) \\\\\n",
    "c_{T} & \\leq m_{T} \\\\\n",
    "u'(c)          & > 0\n",
    "\\end{align}\n",
    "\n",
    "\n",
    "## Two Period Model (Separable)\n",
    "\n",
    "$$\n",
    "v_{T-1} = \\max_{\\{c_{T-1},c_{T}\\}}~~ u(c_{T-1}) + \\beta u(c_{T})\n",
    "$$\n",
    "\n",
    "$$\n",
    "v_{T-1} = \\max_{c_{T-1}}~~ u(c_{T-1}) + \\beta v_{T}(m_{T})\n",
    "$$\n",
    "\n",
    "\n",
    "## Many Period Model (Geometric, Separable)\n",
    "\n",
    "$$\n",
    "v_{t}(m_{t}) = \\max_{\\{c_{t},c_{t+1},...,c_{T}\\}}~~\\sum_{n = 0}^{T-t} \\beta^{n} u(c_{t+n})\n",
    "$$\n",
    "\n",
    "## Bellman Equation\n",
    "$$\n",
    "v_{t}(m_{t}) = \\max_{c_{t}}~~u(c_{t}) + \\beta v_{t+1}(m_{t+1})\n",
    "$$\n",
    "\n",
    "\n"
   ]
  },
  {
   "cell_type": "markdown",
   "metadata": {},
   "source": [
    "## Terminology:\n",
    "\n",
    "1. \"Backward induction\"\n",
    "1. \"Dynamic programming\""
   ]
  },
  {
   "cell_type": "markdown",
   "metadata": {},
   "source": [
    "## Requirements for Bellman Solution\n",
    "\n",
    "#### State Variables Characterize Everything\n",
    "\n",
    "* History does not matter\n",
    "    - How you got to the state does not affect your optimal choices\n",
    "* Problem is \"1st order Markov\"\n",
    "* Specifically, it is a \"Markov Decision Process\"\n",
    "    - This is most of what is studied in \"machine learning\" \n",
    "    - There are lots of ways to make the decisions\n",
    "* Bellman problems are the subset where the decision is *optimal*\n",
    "\n",
    "#### Time Consistency\n",
    "\n",
    "* The choice that seems optimal to you in any given date, _also_ would seem optimal from the perspective of any _other_ date.\n",
    "\n",
    "#### Example of Time Inconsistency\n",
    "\n",
    "\"Principle of Optimality\" is another term for time consistency\n",
    "\n",
    "Suppose that when you are young, you feel strongly that you want to leave a bequest to your kids.\n",
    "\n",
    "$$\n",
    "v_{T-1}(m_{T-1}) = u(c_{T-1}) + \\beta u(c_{T}) + w(\\text{bequest})\n",
    "$$\n",
    "\n",
    "From the perspective of period $T-1$, the optimal choice in period 2 is to allocate whatever resources you have such that marginal utility of $c_{T}$ = marginal welfare(bequest)\n",
    "\n",
    "Now, when you are old, you decide you don't care about the kids after all.\n",
    "\n",
    "Very interesting aspect of this is that it means that choices people make depend on \"commitment technologies\".   \n",
    "\n",
    "\"Naifs\" vs \"Sophisticates\"\n",
    "\n",
    "- Naif: Doesn't realize their future behavior will differ from what they want now\n",
    "- Sophisticates: Understand their future self and strategize accordingly\n",
    "\n",
    "Problem:\n",
    "1. There may be multiple equilibria \n",
    "1. They tend to be very complicated\n",
    "\n",
    "This kind of behavior has been a key underpinning of much of \"behavioral economics\"\n",
    "\n"
   ]
  },
  {
   "cell_type": "markdown",
   "metadata": {},
   "source": [
    "#### Habits?\n",
    "\n",
    "IF you make the assumption that the habit itself constitutes a state.\n",
    "\n",
    "So, the rich-until-yesterday person will have a different \"habit stock\" from a person who was poor-until-yesterday.\n",
    "\n",
    "Simplest case: \n",
    "\n",
    "$$\n",
    "h_{t} = c_{t-1}\n",
    "$$\n",
    "\n",
    "More plausible case: For $\\lambda < 1$\n",
    "$$\n",
    "h_{t} = c_{t-1} + \\lambda c_{t-2} + \\lambda^{T} c_{t-3} + ...\n",
    "$$\n",
    "\n",
    "\n",
    "You have to include the habit's effect in the utility function itself:\n",
    "\n",
    "$$\n",
    "u(c,h)\n",
    "$$\n",
    "\n",
    "If $h_{T-1} \\neq h_{T}$ then\n",
    "$$\n",
    "u^{c}(100,h_{T-1}) \\neq u^{c}(100,h_{T})\n",
    "$$\n"
   ]
  }
 ],
 "metadata": {
  "kernelspec": {
   "display_name": "Python 3 (ipykernel)",
   "language": "python",
   "name": "python3"
  },
  "language_info": {
   "codemirror_mode": {
    "name": "ipython",
    "version": 3
   },
   "file_extension": ".py",
   "mimetype": "text/x-python",
   "name": "python",
   "nbconvert_exporter": "python",
   "pygments_lexer": "ipython3",
   "version": "3.10.10"
  },
  "latex_envs": {
   "LaTeX_envs_menu_present": true,
   "autoclose": false,
   "autocomplete": false,
   "bibliofile": "biblio.bib",
   "cite_by": "apalike",
   "current_citInitial": 1,
   "eqLabelWithNumbers": true,
   "eqNumInitial": 1,
   "hotkeys": {
    "equation": "Ctrl-E",
    "itemize": "Ctrl-I"
   },
   "labels_anchors": false,
   "latex_user_defs": false,
   "report_style_numbering": false,
   "user_envs_cfg": false
  }
 },
 "nbformat": 4,
 "nbformat_minor": 4
}
